{
  "nbformat": 4,
  "nbformat_minor": 0,
  "metadata": {
    "colab": {
      "name": "ibm_data_science_capstone.ipynb",
      "provenance": [],
      "authorship_tag": "ABX9TyPMAt+zauSKKRtlStUuNI8Q"
    },
    "kernelspec": {
      "name": "python3",
      "display_name": "Python 3"
    }
  },
  "cells": [
    {
      "cell_type": "markdown",
      "metadata": {
        "id": "us-Jee_xb-Ty",
        "colab_type": "text"
      },
      "source": [
        "# IBM Data Science Capstone\n",
        "\n",
        "This notebook is part of the Data Science Capstone course projet from IBM on Coursera. The course is part of the [IBM Data Science Professional Certificate](https://www.coursera.org/professional-certificates/ibm-data-science)."
      ]
    },
    {
      "cell_type": "code",
      "metadata": {
        "id": "PPpprj3wbZf1",
        "colab_type": "code",
        "colab": {}
      },
      "source": [
        "# Imports\n",
        "import pandas as pd\n",
        "import numpy as np"
      ],
      "execution_count": 0,
      "outputs": []
    },
    {
      "cell_type": "code",
      "metadata": {
        "id": "EOeoNtZYbzR3",
        "colab_type": "code",
        "colab": {
          "base_uri": "https://localhost:8080/",
          "height": 34
        },
        "outputId": "9dff78ea-025a-463e-daaf-e3c7e5f5119b"
      },
      "source": [
        "# Message\n",
        "print(\"Hello Capstone Project Course!\")"
      ],
      "execution_count": 2,
      "outputs": [
        {
          "output_type": "stream",
          "text": [
            "Hello Capstone Project Course!\n"
          ],
          "name": "stdout"
        }
      ]
    },
    {
      "cell_type": "code",
      "metadata": {
        "id": "gage7qFOdmrc",
        "colab_type": "code",
        "colab": {}
      },
      "source": [
        ""
      ],
      "execution_count": 0,
      "outputs": []
    }
  ]
}