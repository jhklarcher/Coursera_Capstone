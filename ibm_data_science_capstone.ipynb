{
  "nbformat": 4,
  "nbformat_minor": 0,
  "metadata": {
    "colab": {
      "name": "ibm_data_science_capstone.ipynb",
      "provenance": [],
      "authorship_tag": "ABX9TyMQZrvlJ63XOcc6DYPuQ5Lh"
    },
    "kernelspec": {
      "name": "python3",
      "display_name": "Python 3"
    }
  },
  "cells": [
    {
      "cell_type": "markdown",
      "metadata": {
        "id": "us-Jee_xb-Ty",
        "colab_type": "text"
      },
      "source": [
        "# IBM Data Science Capstone\n",
        "\n",
        "This notebook is part of the Data Science Capstone course projet from IBM on Coursera. The course is part of the [IBM Data Science Professional Certificate](https://www.coursera.org/professional-certificates/ibm-data-science)."
      ]
    },
    {
      "cell_type": "code",
      "metadata": {
        "id": "PPpprj3wbZf1",
        "colab_type": "code",
        "colab": {}
      },
      "source": [
        "# Imports"
      ],
      "execution_count": 0,
      "outputs": []
    },
    {
      "cell_type": "code",
      "metadata": {
        "id": "EOeoNtZYbzR3",
        "colab_type": "code",
        "colab": {}
      },
      "source": [
        ""
      ],
      "execution_count": 0,
      "outputs": []
    }
  ]
}