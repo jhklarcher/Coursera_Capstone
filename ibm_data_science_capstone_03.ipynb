{
  "nbformat": 4,
  "nbformat_minor": 0,
  "metadata": {
    "colab": {
      "name": "ibm_data_science_capstone_03.ipynb",
      "provenance": [],
      "authorship_tag": "ABX9TyNrp+m3XjWIBM/5qUSRGFz0"
    },
    "kernelspec": {
      "name": "python3",
      "display_name": "Python 3"
    }
  },
  "cells": [
    {
      "cell_type": "markdown",
      "metadata": {
        "id": "us-Jee_xb-Ty",
        "colab_type": "text"
      },
      "source": [
        "# Peer-graded Assignment: Segmenting and Clustering Neighborhoods in Toronto\n"
      ]
    },
    {
      "cell_type": "markdown",
      "metadata": {
        "id": "aU_B5bu_6slT",
        "colab_type": "text"
      },
      "source": [
        "First importing pandas and numpy"
      ]
    },
    {
      "cell_type": "code",
      "metadata": {
        "id": "PPpprj3wbZf1",
        "colab_type": "code",
        "colab": {}
      },
      "source": [
        "# Imports\n",
        "import pandas as pd\n",
        "import numpy as np"
      ],
      "execution_count": 0,
      "outputs": []
    },
    {
      "cell_type": "markdown",
      "metadata": {
        "id": "PhTIhsU56yXM",
        "colab_type": "text"
      },
      "source": [
        "Creating a function to join the neighborhoods with same borough in a string saparated with a comma.\n"
      ]
    },
    {
      "cell_type": "code",
      "metadata": {
        "id": "cdPyP7bg6zTZ",
        "colab_type": "code",
        "colab": {}
      },
      "source": [
        "# Function \n",
        "def concat(x):\n",
        "  return pd.Series(dict(Postcode = x['Postcode'].max(),\n",
        "                        Borough = x['Borough'].max(),\n",
        "                        Neighborhood = ', '.join(x['Neighborhood'])))"
      ],
      "execution_count": 0,
      "outputs": []
    },
    {
      "cell_type": "markdown",
      "metadata": {
        "id": "Gr_rIXJ07GJr",
        "colab_type": "text"
      },
      "source": [
        "* Importing data\n",
        "* Ignoring cells with a borough that is Not assigned\n",
        "* Grouping (with above function)\n",
        "* Substituting not assigned neighborhood to borough name"
      ]
    },
    {
      "cell_type": "code",
      "metadata": {
        "id": "EOeoNtZYbzR3",
        "colab_type": "code",
        "colab": {}
      },
      "source": [
        "link = \"https://en.wikipedia.org/wiki/List_of_postal_codes_of_Canada:_M\"\n",
        "df = pd.read_html(link)[0]\n",
        "df = df[df['Borough'] != 'Not assigned']\n",
        "\n",
        "df = df.groupby(['Postcode', 'Borough']).apply(concat) # Grouping\n",
        "df['Neighborhood'].replace('Not assigned', df['Borough'], inplace=True) # Subs not assigned to borough name\n",
        "df.reset_index(inplace=True, drop=True)"
      ],
      "execution_count": 0,
      "outputs": []
    },
    {
      "cell_type": "code",
      "metadata": {
        "id": "gage7qFOdmrc",
        "colab_type": "code",
        "colab": {
          "base_uri": "https://localhost:8080/",
          "height": 34
        },
        "outputId": "f43c3a0f-9f95-49d7-c77e-ca632cbebc04"
      },
      "source": [
        "print(\"The dataframe has %d rows.\" % df.shape[0])"
      ],
      "execution_count": 4,
      "outputs": [
        {
          "output_type": "stream",
          "text": [
            "The dataframe has 103 rows.\n"
          ],
          "name": "stdout"
        }
      ]
    },
    {
      "cell_type": "markdown",
      "metadata": {
        "id": "dr30dc7cLkPy",
        "colab_type": "text"
      },
      "source": [
        "Downloading the lat and long coordinates."
      ]
    },
    {
      "cell_type": "code",
      "metadata": {
        "id": "tFiZ4ivZ_LTl",
        "colab_type": "code",
        "colab": {}
      },
      "source": [
        "!wget -q https://cocl.us/Geospatial_data"
      ],
      "execution_count": 0,
      "outputs": []
    },
    {
      "cell_type": "markdown",
      "metadata": {
        "id": "JgDKK8UJLrrG",
        "colab_type": "text"
      },
      "source": [
        "Creating a dataframe for the coordinates and joining with the original."
      ]
    },
    {
      "cell_type": "code",
      "metadata": {
        "id": "bY07iLgC_Lf0",
        "colab_type": "code",
        "colab": {}
      },
      "source": [
        "lat_long = pd.read_csv('Geospatial_data')\n",
        "lat_long.rename(columns={\"Postal Code\": \"Postcode\"}, inplace=True)\n",
        "df = pd.merge(left=df, right=lat_long, how='left', left_on='Postcode', right_on='Postcode')"
      ],
      "execution_count": 0,
      "outputs": []
    },
    {
      "cell_type": "markdown",
      "metadata": {
        "id": "8AzBH0YOL57n",
        "colab_type": "text"
      },
      "source": [
        "5 first rows of dataframe:"
      ]
    },
    {
      "cell_type": "code",
      "metadata": {
        "id": "d7d9EGW0_LoN",
        "colab_type": "code",
        "colab": {
          "base_uri": "https://localhost:8080/",
          "height": 204
        },
        "outputId": "c1257ed7-ccbe-48f1-b8e4-bdf7344994bb"
      },
      "source": [
        "df.head()"
      ],
      "execution_count": 7,
      "outputs": [
        {
          "output_type": "execute_result",
          "data": {
            "text/html": [
              "<div>\n",
              "<style scoped>\n",
              "    .dataframe tbody tr th:only-of-type {\n",
              "        vertical-align: middle;\n",
              "    }\n",
              "\n",
              "    .dataframe tbody tr th {\n",
              "        vertical-align: top;\n",
              "    }\n",
              "\n",
              "    .dataframe thead th {\n",
              "        text-align: right;\n",
              "    }\n",
              "</style>\n",
              "<table border=\"1\" class=\"dataframe\">\n",
              "  <thead>\n",
              "    <tr style=\"text-align: right;\">\n",
              "      <th></th>\n",
              "      <th>Postcode</th>\n",
              "      <th>Borough</th>\n",
              "      <th>Neighborhood</th>\n",
              "      <th>Latitude</th>\n",
              "      <th>Longitude</th>\n",
              "    </tr>\n",
              "  </thead>\n",
              "  <tbody>\n",
              "    <tr>\n",
              "      <th>0</th>\n",
              "      <td>M1B</td>\n",
              "      <td>Scarborough</td>\n",
              "      <td>Rouge, Malvern</td>\n",
              "      <td>43.806686</td>\n",
              "      <td>-79.194353</td>\n",
              "    </tr>\n",
              "    <tr>\n",
              "      <th>1</th>\n",
              "      <td>M1C</td>\n",
              "      <td>Scarborough</td>\n",
              "      <td>Highland Creek, Rouge Hill, Port Union</td>\n",
              "      <td>43.784535</td>\n",
              "      <td>-79.160497</td>\n",
              "    </tr>\n",
              "    <tr>\n",
              "      <th>2</th>\n",
              "      <td>M1E</td>\n",
              "      <td>Scarborough</td>\n",
              "      <td>Guildwood, Morningside, West Hill</td>\n",
              "      <td>43.763573</td>\n",
              "      <td>-79.188711</td>\n",
              "    </tr>\n",
              "    <tr>\n",
              "      <th>3</th>\n",
              "      <td>M1G</td>\n",
              "      <td>Scarborough</td>\n",
              "      <td>Woburn</td>\n",
              "      <td>43.770992</td>\n",
              "      <td>-79.216917</td>\n",
              "    </tr>\n",
              "    <tr>\n",
              "      <th>4</th>\n",
              "      <td>M1H</td>\n",
              "      <td>Scarborough</td>\n",
              "      <td>Cedarbrae</td>\n",
              "      <td>43.773136</td>\n",
              "      <td>-79.239476</td>\n",
              "    </tr>\n",
              "  </tbody>\n",
              "</table>\n",
              "</div>"
            ],
            "text/plain": [
              "  Postcode      Borough  ...   Latitude  Longitude\n",
              "0      M1B  Scarborough  ...  43.806686 -79.194353\n",
              "1      M1C  Scarborough  ...  43.784535 -79.160497\n",
              "2      M1E  Scarborough  ...  43.763573 -79.188711\n",
              "3      M1G  Scarborough  ...  43.770992 -79.216917\n",
              "4      M1H  Scarborough  ...  43.773136 -79.239476\n",
              "\n",
              "[5 rows x 5 columns]"
            ]
          },
          "metadata": {
            "tags": []
          },
          "execution_count": 7
        }
      ]
    },
    {
      "cell_type": "markdown",
      "metadata": {
        "id": "Q_y_I_c_xnL1",
        "colab_type": "text"
      },
      "source": [
        "**References:**\n",
        "\n",
        "https://stackoverflow.com/questions/52865169/how-to-read-wikipedia-table-of-2018-in-film-using-python-pandas-and-beautifulsou\n",
        "\n",
        "https://pandas.pydata.org/pandas-docs/stable/reference/api/pandas.DataFrame.groupby.html\n",
        "\n",
        "https://stackoverflow.com/questions/17841149/pandas-groupby-how-to-get-a-union-of-strings\n",
        "\n"
      ]
    },
    {
      "cell_type": "code",
      "metadata": {
        "id": "wnrQhTs2_LmO",
        "colab_type": "code",
        "colab": {}
      },
      "source": [
        "# This was my code using geocoder, but it wasn't working at the time\n",
        "\n",
        "# !pip install geocoder\n",
        "# import geocoder\n",
        "\n",
        "# def get_lat(x):\n",
        "#   # initialize your variable to None\n",
        "#   lat_lng_coords = None\n",
        "\n",
        "#   # loop until you get the coordinates\n",
        "#   while(lat_lng_coords is None):\n",
        "#     g = geocoder.google('{}, Toronto, Ontario'.format(x['Postcode']))\n",
        "#     lat_lng_coords = g.latlng\n",
        "\n",
        "#   return lat_lng_coords[0]\n",
        "\n",
        "# def get_lang(x):\n",
        "#   # initialize your variable to None\n",
        "#   lat_lng_coords = None\n",
        "\n",
        "#   # loop until you get the coordinates\n",
        "#   while(lat_lng_coords is None):\n",
        "#     g = geocoder.google('{}, Toronto, Ontario'.format(x['Postcode']))\n",
        "#     lat_lng_coords = g.latlng\n",
        "\n",
        "#   return lat_lng_coords[1]\n",
        "\n",
        "# df['Latitude'] = df.apply (lambda row: get_lat(row), axis=1)\n",
        "# df['Longitude'] = df.apply (lambda row: get_long(row), axis=1)"
      ],
      "execution_count": 0,
      "outputs": []
    }
  ]
}