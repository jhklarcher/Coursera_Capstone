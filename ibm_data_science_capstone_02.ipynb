{
  "nbformat": 4,
  "nbformat_minor": 0,
  "metadata": {
    "colab": {
      "name": "ibm_data_science_capstone_02.ipynb",
      "provenance": [],
      "authorship_tag": "ABX9TyOm9XHKXwUbtoNGrnZd4+uQ"
    },
    "kernelspec": {
      "name": "python3",
      "display_name": "Python 3"
    }
  },
  "cells": [
    {
      "cell_type": "markdown",
      "metadata": {
        "id": "us-Jee_xb-Ty",
        "colab_type": "text"
      },
      "source": [
        "# Peer-graded Assignment: Segmenting and Clustering Neighborhoods in Toronto\n"
      ]
    },
    {
      "cell_type": "markdown",
      "metadata": {
        "id": "aU_B5bu_6slT",
        "colab_type": "text"
      },
      "source": [
        "First importing pandas and numpy"
      ]
    },
    {
      "cell_type": "code",
      "metadata": {
        "id": "PPpprj3wbZf1",
        "colab_type": "code",
        "colab": {}
      },
      "source": [
        "# Imports\n",
        "import pandas as pd\n",
        "import numpy as np"
      ],
      "execution_count": 0,
      "outputs": []
    },
    {
      "cell_type": "markdown",
      "metadata": {
        "id": "PhTIhsU56yXM",
        "colab_type": "text"
      },
      "source": [
        "Creating a function to join the neighborhoods with same borough in a string saparated with a comma.\n"
      ]
    },
    {
      "cell_type": "code",
      "metadata": {
        "id": "cdPyP7bg6zTZ",
        "colab_type": "code",
        "colab": {}
      },
      "source": [
        "# Function \n",
        "def concat(x):\n",
        "  return pd.Series(dict(Postcode = x['Postcode'].max(),\n",
        "                        Borough = x['Borough'].max(),\n",
        "                        Neighborhood = ', '.join(x['Neighborhood'])))"
      ],
      "execution_count": 0,
      "outputs": []
    },
    {
      "cell_type": "markdown",
      "metadata": {
        "id": "Gr_rIXJ07GJr",
        "colab_type": "text"
      },
      "source": [
        "* Importing data\n",
        "* Ignoring cells with a borough that is Not assigned\n",
        "* Grouping (with above function)\n",
        "* Substituting not assigned neighborhood to borough name"
      ]
    },
    {
      "cell_type": "code",
      "metadata": {
        "id": "EOeoNtZYbzR3",
        "colab_type": "code",
        "colab": {}
      },
      "source": [
        "link = \"https://en.wikipedia.org/wiki/List_of_postal_codes_of_Canada:_M\"\n",
        "df = pd.read_html(link)[0]\n",
        "df = df[df['Borough'] != 'Not assigned']\n",
        "\n",
        "df = df.groupby(['Postcode', 'Borough']).apply(concat) # Grouping\n",
        "df['Neighborhood'].replace('Not assigned', df['Borough'], inplace=True) # Subs not assigned to borough name\n",
        "df.reset_index(inplace=True, drop=True)"
      ],
      "execution_count": 0,
      "outputs": []
    },
    {
      "cell_type": "code",
      "metadata": {
        "id": "9LPwh0e79UsM",
        "colab_type": "code",
        "colab": {
          "base_uri": "https://localhost:8080/",
          "height": 204
        },
        "outputId": "f5391bfa-8e7c-4443-bf3c-ed95860aadb4"
      },
      "source": [
        "df.head()"
      ],
      "execution_count": 4,
      "outputs": [
        {
          "output_type": "execute_result",
          "data": {
            "text/html": [
              "<div>\n",
              "<style scoped>\n",
              "    .dataframe tbody tr th:only-of-type {\n",
              "        vertical-align: middle;\n",
              "    }\n",
              "\n",
              "    .dataframe tbody tr th {\n",
              "        vertical-align: top;\n",
              "    }\n",
              "\n",
              "    .dataframe thead th {\n",
              "        text-align: right;\n",
              "    }\n",
              "</style>\n",
              "<table border=\"1\" class=\"dataframe\">\n",
              "  <thead>\n",
              "    <tr style=\"text-align: right;\">\n",
              "      <th></th>\n",
              "      <th>Postcode</th>\n",
              "      <th>Borough</th>\n",
              "      <th>Neighborhood</th>\n",
              "    </tr>\n",
              "  </thead>\n",
              "  <tbody>\n",
              "    <tr>\n",
              "      <th>0</th>\n",
              "      <td>M1B</td>\n",
              "      <td>Scarborough</td>\n",
              "      <td>Rouge, Malvern</td>\n",
              "    </tr>\n",
              "    <tr>\n",
              "      <th>1</th>\n",
              "      <td>M1C</td>\n",
              "      <td>Scarborough</td>\n",
              "      <td>Highland Creek, Rouge Hill, Port Union</td>\n",
              "    </tr>\n",
              "    <tr>\n",
              "      <th>2</th>\n",
              "      <td>M1E</td>\n",
              "      <td>Scarborough</td>\n",
              "      <td>Guildwood, Morningside, West Hill</td>\n",
              "    </tr>\n",
              "    <tr>\n",
              "      <th>3</th>\n",
              "      <td>M1G</td>\n",
              "      <td>Scarborough</td>\n",
              "      <td>Woburn</td>\n",
              "    </tr>\n",
              "    <tr>\n",
              "      <th>4</th>\n",
              "      <td>M1H</td>\n",
              "      <td>Scarborough</td>\n",
              "      <td>Cedarbrae</td>\n",
              "    </tr>\n",
              "  </tbody>\n",
              "</table>\n",
              "</div>"
            ],
            "text/plain": [
              "  Postcode      Borough                            Neighborhood\n",
              "0      M1B  Scarborough                          Rouge, Malvern\n",
              "1      M1C  Scarborough  Highland Creek, Rouge Hill, Port Union\n",
              "2      M1E  Scarborough       Guildwood, Morningside, West Hill\n",
              "3      M1G  Scarborough                                  Woburn\n",
              "4      M1H  Scarborough                               Cedarbrae"
            ]
          },
          "metadata": {
            "tags": []
          },
          "execution_count": 4
        }
      ]
    },
    {
      "cell_type": "code",
      "metadata": {
        "id": "gage7qFOdmrc",
        "colab_type": "code",
        "colab": {
          "base_uri": "https://localhost:8080/",
          "height": 34
        },
        "outputId": "509b1b55-06c0-4227-c205-9ba531e256d8"
      },
      "source": [
        "print(\"The dataframe has %d rows.\" % df.shape[0])"
      ],
      "execution_count": 5,
      "outputs": [
        {
          "output_type": "stream",
          "text": [
            "The dataframe has 103 rows.\n"
          ],
          "name": "stdout"
        }
      ]
    },
    {
      "cell_type": "markdown",
      "metadata": {
        "id": "Q_y_I_c_xnL1",
        "colab_type": "text"
      },
      "source": [
        "**References:**\n",
        "\n",
        "https://stackoverflow.com/questions/52865169/how-to-read-wikipedia-table-of-2018-in-film-using-python-pandas-and-beautifulsou\n",
        "\n",
        "https://pandas.pydata.org/pandas-docs/stable/reference/api/pandas.DataFrame.groupby.html\n",
        "\n",
        "https://stackoverflow.com/questions/17841149/pandas-groupby-how-to-get-a-union-of-strings\n",
        "\n"
      ]
    }
  ]
}